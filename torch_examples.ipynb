{
  "nbformat": 4,
  "nbformat_minor": 0,
  "metadata": {
    "colab": {
      "provenance": [],
      "gpuType": "T4",
      "authorship_tag": "ABX9TyOpbJMe40m2wMjI3tR9ZnPY",
      "include_colab_link": true
    },
    "kernelspec": {
      "name": "python3",
      "display_name": "Python 3"
    },
    "language_info": {
      "name": "python"
    },
    "accelerator": "GPU"
  },
  "cells": [
    {
      "cell_type": "markdown",
      "metadata": {
        "id": "view-in-github",
        "colab_type": "text"
      },
      "source": [
        "<a href=\"https://colab.research.google.com/github/arunava-12/LLM-from-Scratch/blob/main/torch_examples.ipynb\" target=\"_parent\"><img src=\"https://colab.research.google.com/assets/colab-badge.svg\" alt=\"Open In Colab\"/></a>"
      ]
    },
    {
      "cell_type": "code",
      "execution_count": 4,
      "metadata": {
        "colab": {
          "base_uri": "https://localhost:8080/"
        },
        "id": "nK98Gb_niQu2",
        "outputId": "e41ef2db-3581-4086-b7b1-9e9d0d1bfc96"
      },
      "outputs": [
        {
          "output_type": "stream",
          "name": "stdout",
          "text": [
            "cuda\n"
          ]
        }
      ],
      "source": [
        "import torch\n",
        "import torch.nn as nn\n",
        "from torch.nn import functional as F\n",
        "import numpy as np\n",
        "import time\n",
        "device = 'cuda' if torch.cuda.is_available() else 'cpu'\n",
        "print(device)"
      ]
    },
    {
      "cell_type": "code",
      "source": [
        "%%time\n",
        "start_time = time.time()\n",
        "# matrix operations here\n",
        "zeros = torch.zeros(1, 1)\n",
        "end_time = time.time()\n",
        "\n",
        "elapsed_time = end_time - start_time\n",
        "print(f\"{elapsed_time:.10f}\")"
      ],
      "metadata": {
        "colab": {
          "base_uri": "https://localhost:8080/"
        },
        "id": "8l5BD9JqkA5w",
        "outputId": "fffcd094-7526-428a-f984-013e69c2b87a"
      },
      "execution_count": 8,
      "outputs": [
        {
          "output_type": "stream",
          "name": "stdout",
          "text": [
            "0.0003209114\n",
            "CPU times: user 428 µs, sys: 46 µs, total: 474 µs\n",
            "Wall time: 428 µs\n"
          ]
        }
      ]
    },
    {
      "cell_type": "code",
      "source": [
        "torch_rand1 = torch.rand(100, 100, 100, 100).to(device)\n",
        "torch_rand2 = torch.rand(100, 100, 100, 100).to(device)\n",
        "np_rand1 = torch.rand(100, 100, 100, 100)\n",
        "np_rand2 = torch.rand(100, 100, 100, 100)\n",
        "\n",
        "start_time = time.time()\n",
        "\n",
        "rand = (torch_rand1 @ torch_rand2)\n",
        "\n",
        "end_time = time.time()\n",
        "\n",
        "elapsed_time = end_time - start_time\n",
        "print(f\"{elapsed_time:.8f}\")\n",
        "\n",
        "\n",
        "start_time = time.time()\n",
        "\n",
        "rand = np.multiply(np_rand1, np_rand2)\n",
        "end_time = time.time()\n",
        "elapsed_time = end_time - start_time\n",
        "print(f\"{elapsed_time:.8f}\")"
      ],
      "metadata": {
        "colab": {
          "base_uri": "https://localhost:8080/"
        },
        "id": "e28kB8xnkNAI",
        "outputId": "06a4d47d-ebb9-4a57-b84d-86cfd6b14b42"
      },
      "execution_count": 9,
      "outputs": [
        {
          "output_type": "stream",
          "name": "stdout",
          "text": [
            "0.16849327\n",
            "0.15279984\n"
          ]
        },
        {
          "output_type": "stream",
          "name": "stderr",
          "text": [
            "<ipython-input-9-e27d042f03f0>:18: DeprecationWarning: __array_wrap__ must accept context and return_scalar arguments (positionally) in the future. (Deprecated NumPy 2.0)\n",
            "  rand = np.multiply(np_rand1, np_rand2)\n"
          ]
        }
      ]
    },
    {
      "cell_type": "code",
      "source": [
        "# embeddings, torch.stack, torch.multinomial, torch.tril, torch.triu, input.T / input.transpose, nn.Linear, torch.cat, F.softmax (show all the examples of functions/methods with pytorch docs)\n",
        "\n",
        "\n",
        "# Define a probability tensor\n",
        "probabilities = torch.tensor([0.1, 0.9])\n",
        "# 10% or 0.1 => 0, 90% or 0.9 => 1. each probability points to the index of the probability in the tensor\n",
        "# Draw 5 samples from the multinomial distribution\n",
        "samples = torch.multinomial(probabilities, num_samples=10, replacement=True)\n",
        "print(samples)"
      ],
      "metadata": {
        "colab": {
          "base_uri": "https://localhost:8080/"
        },
        "id": "sGcxX5TgklVc",
        "outputId": "a21edaa5-3458-4b58-aa73-44578d86bf29"
      },
      "execution_count": 10,
      "outputs": [
        {
          "output_type": "stream",
          "name": "stdout",
          "text": [
            "tensor([1, 0, 1, 1, 1, 0, 0, 1, 1, 0])\n"
          ]
        }
      ]
    },
    {
      "cell_type": "code",
      "source": [
        "tensor = torch.tensor([1, 2, 3, 4])\n",
        "out = torch.cat((tensor, torch.tensor([5])), dim=0)\n",
        "out"
      ],
      "metadata": {
        "colab": {
          "base_uri": "https://localhost:8080/"
        },
        "id": "lTGZn3zulUpz",
        "outputId": "1d6032df-4104-4f12-8e1b-8b4e11d28957"
      },
      "execution_count": 11,
      "outputs": [
        {
          "output_type": "execute_result",
          "data": {
            "text/plain": [
              "tensor([1, 2, 3, 4, 5])"
            ]
          },
          "metadata": {},
          "execution_count": 11
        }
      ]
    },
    {
      "cell_type": "code",
      "source": [
        "out = torch.tril(torch.ones(5, 5))\n",
        "out"
      ],
      "metadata": {
        "colab": {
          "base_uri": "https://localhost:8080/"
        },
        "id": "gsmLFCsmlWiE",
        "outputId": "c2865b96-889e-423e-c8fa-192289a0153e"
      },
      "execution_count": 12,
      "outputs": [
        {
          "output_type": "execute_result",
          "data": {
            "text/plain": [
              "tensor([[1., 0., 0., 0., 0.],\n",
              "        [1., 1., 0., 0., 0.],\n",
              "        [1., 1., 1., 0., 0.],\n",
              "        [1., 1., 1., 1., 0.],\n",
              "        [1., 1., 1., 1., 1.]])"
            ]
          },
          "metadata": {},
          "execution_count": 12
        }
      ]
    },
    {
      "cell_type": "code",
      "source": [
        "out = torch.triu(torch.ones(5, 5))\n",
        "out"
      ],
      "metadata": {
        "colab": {
          "base_uri": "https://localhost:8080/"
        },
        "id": "-Bx4s_YhlYZQ",
        "outputId": "807a5756-0051-4a1b-d88f-0f7fbcbdc45d"
      },
      "execution_count": 13,
      "outputs": [
        {
          "output_type": "execute_result",
          "data": {
            "text/plain": [
              "tensor([[1., 1., 1., 1., 1.],\n",
              "        [0., 1., 1., 1., 1.],\n",
              "        [0., 0., 1., 1., 1.],\n",
              "        [0., 0., 0., 1., 1.],\n",
              "        [0., 0., 0., 0., 1.]])"
            ]
          },
          "metadata": {},
          "execution_count": 13
        }
      ]
    },
    {
      "cell_type": "code",
      "source": [
        "out = torch.zeros(5, 5).masked_fill(torch.tril(torch.ones(5, 5)) == 0, float('-inf'))\n",
        "out"
      ],
      "metadata": {
        "colab": {
          "base_uri": "https://localhost:8080/"
        },
        "id": "Xp9kX0j-lb-k",
        "outputId": "00ae2b8c-535b-466d-ed0d-9b9cf6edc8d3"
      },
      "execution_count": 14,
      "outputs": [
        {
          "output_type": "execute_result",
          "data": {
            "text/plain": [
              "tensor([[0., -inf, -inf, -inf, -inf],\n",
              "        [0., 0., -inf, -inf, -inf],\n",
              "        [0., 0., 0., -inf, -inf],\n",
              "        [0., 0., 0., 0., -inf],\n",
              "        [0., 0., 0., 0., 0.]])"
            ]
          },
          "metadata": {},
          "execution_count": 14
        }
      ]
    },
    {
      "cell_type": "code",
      "source": [
        "torch.exp(out)"
      ],
      "metadata": {
        "colab": {
          "base_uri": "https://localhost:8080/"
        },
        "id": "gmrS8bDClgly",
        "outputId": "5a0931fb-e5b5-4501-fd11-fa5794cb66c6"
      },
      "execution_count": 15,
      "outputs": [
        {
          "output_type": "execute_result",
          "data": {
            "text/plain": [
              "tensor([[1., 0., 0., 0., 0.],\n",
              "        [1., 1., 0., 0., 0.],\n",
              "        [1., 1., 1., 0., 0.],\n",
              "        [1., 1., 1., 1., 0.],\n",
              "        [1., 1., 1., 1., 1.]])"
            ]
          },
          "metadata": {},
          "execution_count": 15
        }
      ]
    },
    {
      "cell_type": "code",
      "source": [
        "input = torch.zeros(2, 3, 4)\n",
        "out1 = input.transpose(0, 1)\n",
        "out2 = input.transpose(-2,-1)\n",
        "print(out1.shape)\n",
        "print(out2.shape)\n",
        "# torch.permute works the same but you provide the new order of dimensions instead of the dimensions you'd like to swap."
      ],
      "metadata": {
        "colab": {
          "base_uri": "https://localhost:8080/"
        },
        "id": "ofTEQtZ1lifv",
        "outputId": "f93421c6-ad2c-45fe-8cb5-d0fe8b92bff8"
      },
      "execution_count": 16,
      "outputs": [
        {
          "output_type": "stream",
          "name": "stdout",
          "text": [
            "torch.Size([3, 2, 4])\n",
            "torch.Size([2, 4, 3])\n"
          ]
        }
      ]
    },
    {
      "cell_type": "code",
      "source": [
        "tensor1 = torch.tensor([1, 2, 3])\n",
        "tensor2 = torch.tensor([4, 5, 6])\n",
        "tensor3 = torch.tensor([7, 8, 9])\n",
        "\n",
        "# Stack the tensors along a new dimension\n",
        "stacked_tensor = torch.stack([tensor1, tensor2, tensor3])\n",
        "stacked_tensor"
      ],
      "metadata": {
        "colab": {
          "base_uri": "https://localhost:8080/"
        },
        "id": "vFnZR8QhlmPB",
        "outputId": "7b55b253-d35d-4b61-f32d-033781f3b94a"
      },
      "execution_count": 17,
      "outputs": [
        {
          "output_type": "execute_result",
          "data": {
            "text/plain": [
              "tensor([[1, 2, 3],\n",
              "        [4, 5, 6],\n",
              "        [7, 8, 9]])"
            ]
          },
          "metadata": {},
          "execution_count": 17
        }
      ]
    },
    {
      "cell_type": "code",
      "source": [
        "import torch.nn as nn\n",
        "sample = torch.tensor([10.,10.,10.])\n",
        "linear = nn.Linear(3, 3, bias=False)\n",
        "print(linear(sample))"
      ],
      "metadata": {
        "colab": {
          "base_uri": "https://localhost:8080/"
        },
        "id": "f7pelG9-looR",
        "outputId": "099e909b-bc65-476d-e6a0-e6549f787a0f"
      },
      "execution_count": 18,
      "outputs": [
        {
          "output_type": "stream",
          "name": "stdout",
          "text": [
            "tensor([ 9.4419, -1.3979,  3.2582], grad_fn=<SqueezeBackward4>)\n"
          ]
        }
      ]
    },
    {
      "cell_type": "code",
      "source": [
        "import torch.nn.functional as F\n",
        "\n",
        "# Create a tensor\n",
        "tensor1 = torch.tensor([1.0, 2.0, 3.0])\n",
        "\n",
        "# Apply softmax using torch.nn.functional.softmax()\n",
        "softmax_output = F.softmax(tensor1, dim=0)\n",
        "\n",
        "print(softmax_output)"
      ],
      "metadata": {
        "colab": {
          "base_uri": "https://localhost:8080/"
        },
        "id": "r_3f2OydlqwP",
        "outputId": "5a3445b3-b72b-462d-e6c5-df8c1f3ee531"
      },
      "execution_count": 19,
      "outputs": [
        {
          "output_type": "stream",
          "name": "stdout",
          "text": [
            "tensor([0.0900, 0.2447, 0.6652])\n"
          ]
        }
      ]
    },
    {
      "cell_type": "code",
      "source": [
        "# Initialize an embedding layer\n",
        "vocab_size = 80\n",
        "embedding_dim = 6\n",
        "embedding = nn.Embedding(vocab_size, embedding_dim)\n",
        "\n",
        "# Create some input indices\n",
        "input_indices = torch.LongTensor([1, 5, 3, 2])\n",
        "\n",
        "# Apply the embedding layer\n",
        "embedded_output = embedding(input_indices)\n",
        "\n",
        "# The output will be a tensor of shape (4, 100), where 4 is the number of inputs\n",
        "# and 100 is the dimensionality of the embedding vectors\n",
        "print(embedded_output.shape)\n",
        "print(embedded_output)"
      ],
      "metadata": {
        "colab": {
          "base_uri": "https://localhost:8080/"
        },
        "id": "8Tc7TN-UluT1",
        "outputId": "86f13717-fa52-4161-cd9d-514374c205c9"
      },
      "execution_count": 20,
      "outputs": [
        {
          "output_type": "stream",
          "name": "stdout",
          "text": [
            "torch.Size([4, 6])\n",
            "tensor([[-0.6433, -0.3964, -0.1339, -0.5705, -0.5400, -0.0254],\n",
            "        [ 0.9248,  0.5769,  0.6349,  0.7763,  0.1134,  0.3523],\n",
            "        [-0.1008,  0.4846,  2.1231, -1.0712,  1.1722, -1.0270],\n",
            "        [ 0.4512,  0.5811, -0.9488, -0.1188,  1.1776, -1.4757]],\n",
            "       grad_fn=<EmbeddingBackward0>)\n"
          ]
        }
      ]
    },
    {
      "cell_type": "code",
      "source": [
        "a = torch.tensor([[1,2],[3,4],[5,6]])\n",
        "b = torch.tensor([[7,8,9],[10,11,12]])\n",
        "# print(a @ b)\n",
        "print(torch.matmul(a, b))"
      ],
      "metadata": {
        "colab": {
          "base_uri": "https://localhost:8080/"
        },
        "id": "pUaRFSknlwmv",
        "outputId": "99c3a3ff-4803-4328-b368-b8da7cf6b40f"
      },
      "execution_count": 21,
      "outputs": [
        {
          "output_type": "stream",
          "name": "stdout",
          "text": [
            "tensor([[ 27,  30,  33],\n",
            "        [ 61,  68,  75],\n",
            "        [ 95, 106, 117]])\n"
          ]
        }
      ]
    },
    {
      "cell_type": "code",
      "source": [
        "int_64 = torch.randint(1, (3, 2)).float()\n",
        "#type int64\n",
        "float_32 = torch.rand(2,3)\n",
        "#type float32\n",
        "# print(int_64.dtype, float_32.dtype)\n",
        "result = torch.matmul(int_64, float_32)\n",
        "print(result)"
      ],
      "metadata": {
        "colab": {
          "base_uri": "https://localhost:8080/"
        },
        "id": "jTrc-oqzlylI",
        "outputId": "3b9a80f2-c596-467d-87fb-442c5d473919"
      },
      "execution_count": 22,
      "outputs": [
        {
          "output_type": "stream",
          "name": "stdout",
          "text": [
            "tensor([[0., 0., 0.],\n",
            "        [0., 0., 0.],\n",
            "        [0., 0., 0.]])\n"
          ]
        }
      ]
    },
    {
      "cell_type": "code",
      "source": [
        "a = torch.rand(2, 3, 5)\n",
        "print(a.shape)\n",
        "x, y, z = a.shape\n",
        "a = a.view(x,y,z)\n",
        "# print(x, y, z)\n",
        "print(a.shape)"
      ],
      "metadata": {
        "colab": {
          "base_uri": "https://localhost:8080/"
        },
        "id": "aJhYnvcil031",
        "outputId": "73084a6b-211f-4124-8d54-dc087ad2fa96"
      },
      "execution_count": 23,
      "outputs": [
        {
          "output_type": "stream",
          "name": "stdout",
          "text": [
            "torch.Size([2, 3, 5])\n",
            "torch.Size([2, 3, 5])\n"
          ]
        }
      ]
    },
    {
      "cell_type": "code",
      "source": [
        "input = torch.rand((4, 8, 10))\n",
        "B, T, C = input.shape\n",
        "output = input.view(B*T, C)\n",
        "print(output)\n",
        "# print(input)\n",
        "print(output[:, -1])"
      ],
      "metadata": {
        "colab": {
          "base_uri": "https://localhost:8080/"
        },
        "id": "UiCGENIgl2fA",
        "outputId": "c5d9c5dd-62a1-4132-a9db-a22dcfd5683c"
      },
      "execution_count": 25,
      "outputs": [
        {
          "output_type": "stream",
          "name": "stdout",
          "text": [
            "tensor([[7.1041e-01, 1.1166e-01, 6.4284e-01, 7.4128e-01, 4.2632e-01, 3.8000e-01,\n",
            "         6.2477e-01, 3.1359e-01, 7.2083e-01, 2.1717e-01],\n",
            "        [2.3495e-01, 5.7889e-01, 3.7640e-01, 1.3022e-01, 5.9542e-01, 8.4919e-01,\n",
            "         1.9885e-01, 9.0559e-01, 3.1118e-01, 3.4852e-01],\n",
            "        [8.5944e-01, 2.2806e-01, 1.2982e-01, 1.0778e-01, 1.1611e-01, 3.2818e-01,\n",
            "         8.6759e-01, 4.5772e-01, 1.4208e-01, 2.4836e-01],\n",
            "        [1.1621e-01, 2.2302e-01, 4.1089e-02, 4.6524e-01, 1.0397e-01, 1.0987e-01,\n",
            "         1.4656e-01, 1.7601e-02, 7.9447e-02, 9.2489e-01],\n",
            "        [5.9193e-01, 8.4456e-01, 1.6230e-01, 2.8965e-01, 7.2437e-01, 9.8348e-01,\n",
            "         6.6683e-01, 8.8741e-01, 4.7982e-01, 6.8349e-04],\n",
            "        [7.7894e-02, 4.2413e-01, 2.1089e-01, 1.7629e-01, 3.5747e-01, 9.3947e-01,\n",
            "         4.1649e-01, 6.7609e-01, 8.3544e-01, 9.1213e-01],\n",
            "        [3.7351e-01, 5.4284e-01, 9.1231e-01, 4.9734e-02, 9.5385e-01, 1.0726e-02,\n",
            "         2.5113e-01, 4.0601e-01, 2.5583e-01, 3.9710e-01],\n",
            "        [6.7794e-01, 6.9507e-01, 2.1636e-02, 2.7379e-01, 6.4338e-01, 6.5566e-01,\n",
            "         5.7053e-02, 8.4019e-01, 1.6161e-01, 3.1013e-01],\n",
            "        [5.0464e-01, 3.6096e-01, 6.0593e-01, 7.7274e-01, 1.9435e-01, 7.1118e-01,\n",
            "         5.4548e-01, 4.6564e-01, 1.0457e-01, 3.6842e-01],\n",
            "        [1.5502e-01, 5.6681e-02, 3.7024e-01, 3.7814e-01, 5.2482e-01, 4.4891e-01,\n",
            "         5.7540e-02, 4.6727e-01, 5.4450e-01, 6.0973e-01],\n",
            "        [7.5574e-01, 1.4352e-01, 6.5866e-01, 1.6535e-01, 9.7294e-01, 6.3217e-01,\n",
            "         4.5646e-01, 4.9386e-01, 4.5643e-01, 5.4704e-02],\n",
            "        [3.9937e-01, 5.4808e-01, 5.3815e-01, 5.1352e-01, 9.6395e-02, 8.6433e-01,\n",
            "         6.0067e-01, 6.4272e-01, 9.8849e-02, 7.5767e-01],\n",
            "        [9.1811e-01, 8.7081e-01, 6.8771e-01, 8.9029e-01, 1.1347e-01, 2.6329e-01,\n",
            "         1.6347e-01, 3.4830e-01, 1.9026e-01, 3.5790e-01],\n",
            "        [4.4305e-01, 2.8238e-01, 4.4372e-01, 5.1365e-01, 4.5651e-01, 2.1008e-02,\n",
            "         4.9836e-01, 1.8448e-01, 3.3367e-01, 1.9499e-01],\n",
            "        [2.1903e-02, 1.6973e-01, 1.2209e-01, 7.8067e-01, 6.5016e-01, 9.4041e-03,\n",
            "         9.3742e-01, 2.4519e-01, 9.6944e-01, 2.5355e-01],\n",
            "        [9.5773e-01, 8.6956e-01, 5.5957e-01, 1.4833e-01, 5.7033e-01, 9.2811e-01,\n",
            "         8.0820e-01, 1.6001e-01, 6.8837e-01, 4.7791e-01],\n",
            "        [4.7067e-01, 6.9898e-01, 7.2044e-01, 2.2619e-01, 4.1750e-02, 5.7987e-01,\n",
            "         9.9678e-01, 7.6501e-01, 5.7312e-01, 9.8462e-01],\n",
            "        [6.6545e-01, 3.6028e-01, 4.6569e-01, 7.4700e-02, 8.7181e-01, 2.2399e-01,\n",
            "         6.8103e-01, 9.8913e-01, 1.7001e-01, 3.7763e-01],\n",
            "        [4.8115e-01, 6.2642e-01, 5.6692e-01, 7.1426e-01, 1.6298e-01, 6.7584e-01,\n",
            "         9.8078e-01, 9.3310e-01, 2.5871e-01, 1.2664e-01],\n",
            "        [4.7995e-01, 2.7488e-01, 9.6488e-01, 3.4550e-01, 5.3958e-01, 2.7250e-02,\n",
            "         2.3071e-01, 2.4208e-01, 9.4518e-01, 5.7704e-01],\n",
            "        [4.9476e-02, 2.3770e-01, 4.3966e-01, 7.3026e-01, 7.4518e-01, 5.7851e-01,\n",
            "         4.3092e-01, 5.9901e-01, 9.7874e-01, 9.6241e-01],\n",
            "        [7.2814e-01, 5.3669e-01, 9.5146e-01, 3.9718e-01, 1.6307e-01, 2.0893e-01,\n",
            "         9.6712e-01, 3.3242e-01, 8.4153e-01, 7.0117e-01],\n",
            "        [2.8887e-01, 4.6771e-01, 1.1176e-01, 1.0438e-01, 8.9714e-02, 9.7074e-01,\n",
            "         7.2448e-01, 7.9760e-01, 2.9998e-01, 1.2610e-01],\n",
            "        [9.7686e-01, 1.6251e-01, 7.8334e-02, 3.3802e-01, 4.3565e-01, 7.9209e-01,\n",
            "         5.2700e-01, 8.5731e-02, 8.3889e-01, 8.3096e-01],\n",
            "        [8.8818e-01, 8.2479e-01, 5.1728e-01, 8.5927e-01, 2.0092e-01, 7.0553e-01,\n",
            "         2.2806e-01, 6.2873e-01, 7.2053e-01, 3.9849e-01],\n",
            "        [6.0077e-01, 2.9590e-01, 9.6226e-01, 2.3023e-01, 2.9862e-01, 1.7637e-01,\n",
            "         4.3666e-01, 7.7181e-01, 5.9499e-01, 2.6830e-01],\n",
            "        [3.3368e-01, 3.6794e-01, 6.0977e-01, 2.6634e-01, 6.4973e-01, 3.2965e-01,\n",
            "         9.2782e-01, 8.8686e-01, 6.8588e-01, 8.2601e-01],\n",
            "        [6.2712e-01, 4.2853e-01, 3.0095e-01, 7.9237e-01, 8.0239e-01, 9.6253e-01,\n",
            "         3.5894e-01, 5.9433e-01, 5.5663e-01, 6.2712e-01],\n",
            "        [7.7204e-01, 9.9944e-01, 7.4304e-01, 5.7777e-01, 5.6739e-01, 7.1966e-01,\n",
            "         4.9747e-01, 7.3981e-02, 1.0947e-01, 4.2042e-01],\n",
            "        [3.0163e-01, 3.9806e-01, 4.2478e-01, 7.5218e-01, 3.1313e-01, 2.1803e-01,\n",
            "         1.1183e-01, 3.3631e-01, 5.7068e-01, 9.8830e-01],\n",
            "        [8.0561e-01, 8.2273e-01, 2.0442e-01, 7.6400e-01, 2.8570e-01, 5.9454e-01,\n",
            "         2.1072e-01, 8.2180e-01, 6.7713e-01, 4.0152e-02],\n",
            "        [8.4370e-01, 9.2863e-01, 5.8189e-01, 3.2267e-01, 6.0557e-02, 7.8836e-01,\n",
            "         5.8961e-01, 9.6917e-01, 6.5028e-01, 3.5862e-01]])\n",
            "tensor([2.1717e-01, 3.4852e-01, 2.4836e-01, 9.2489e-01, 6.8349e-04, 9.1213e-01,\n",
            "        3.9710e-01, 3.1013e-01, 3.6842e-01, 6.0973e-01, 5.4704e-02, 7.5767e-01,\n",
            "        3.5790e-01, 1.9499e-01, 2.5355e-01, 4.7791e-01, 9.8462e-01, 3.7763e-01,\n",
            "        1.2664e-01, 5.7704e-01, 9.6241e-01, 7.0117e-01, 1.2610e-01, 8.3096e-01,\n",
            "        3.9849e-01, 2.6830e-01, 8.2601e-01, 6.2712e-01, 4.2042e-01, 9.8830e-01,\n",
            "        4.0152e-02, 3.5862e-01])\n"
          ]
        }
      ]
    },
    {
      "cell_type": "code",
      "source": [
        "x = torch.tensor([10], dtype=torch.float32)\n",
        "y = F.tanh(x)\n",
        "print(y)"
      ],
      "metadata": {
        "colab": {
          "base_uri": "https://localhost:8080/"
        },
        "id": "YK0LaRDal4I5",
        "outputId": "7a6a72ec-8d57-4143-d50f-9f82a53939ea"
      },
      "execution_count": 26,
      "outputs": [
        {
          "output_type": "stream",
          "name": "stdout",
          "text": [
            "tensor([1.])\n"
          ]
        }
      ]
    }
  ]
}